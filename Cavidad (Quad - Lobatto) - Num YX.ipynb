{
 "metadata": {
  "name": "",
  "signature": "sha256:7ba5dc6bfdf525f9391e2d280a7b02b6f629c675dc751f448b513403e65f25af"
 },
 "nbformat": 3,
 "nbformat_minor": 0,
 "worksheets": [
  {
   "cells": [
    {
     "cell_type": "markdown",
     "metadata": {},
     "source": [
      "#Test 3: Caso 2D - Cavidad"
     ]
    },
    {
     "cell_type": "markdown",
     "metadata": {},
     "source": [
      "En el flujo con una cavidad rectangular, el fluido se encuentra confinado en una regi\u00f3n rectangular de dimensiones $L\\times W$ donde el movimiento se debe al desplazamiento transversal de una de las caras. En este sentido, la velocidad de la cara superior es de $U_0$ y el de las dem\u00e1s interfaces es de $0$. De acuerdo con esto, se tienen las siguientes consideraciones:\n",
      "\n",
      "- El flujo se presenta \u00fanicamente en las direcciones $x$ y $y$ ($w=0$).\n",
      "- El flujo no depende de la coordenada $z$ ($\\frac{\\partial}{\\partial z}=0$).\n",
      "- El fluido se encuentra en estado estacionario ($\\frac{\\partial}{\\partial t}=0$).\n",
      "- No hay fuerzas externas afectando el flujo ($f_x=f_y=f_z=0$).\n",
      "\n",
      "De aqu\u00ed, las ecuaciones de continuidad y de Navier-Stokes se reducen a:\n",
      "\n",
      "\\begin{align}\n",
      "\\frac{\\partial \\rho}{\\partial t} + \\nabla\\cdot(\\rho \\vec{u})=0 \\quad &\\to\\quad \\frac{\\partial u}{\\partial x}+\\frac{\\partial v}{\\partial y}=0 \\\\\n",
      "\\rho\\left(\\frac{\\partial \\vec{u}}{\\partial t}+\\vec{u}\\cdot\\nabla\\vec{u}\\right)=\\rho\\vec{f}-\\nabla p+\\mu\\nabla^2\\vec{u}\\quad &\\to\\quad \\begin{cases} \\rho \\left(u\\frac{\\partial u}{\\partial x}+v\\frac{\\partial u}{\\partial y}\\right)=-\\frac{\\partial p}{\\partial x}+\\mu\\left(\\frac{\\partial^2u}{\\partial x^2}+\\frac{\\partial^2u}{\\partial y^2}\\right) \\\\ \\rho \\left(u\\frac{\\partial v}{\\partial x}+v\\frac{\\partial v}{\\partial y}\\right)=-\\frac{\\partial p}{\\partial v}+\\mu\\left(\\frac{\\partial^2v}{\\partial x^2}+\\frac{\\partial^2v}{\\partial y^2}\\right) \\end{cases}\n",
      "\\end{align}\n",
      "\n",
      "Se puede ver entonces que la ecuaci\u00f3n resultante es un caso particular del problema de convecci\u00f3n-difusi\u00f3n estable:\n",
      "\n",
      "$$\\frac{\\partial f}{\\partial t} + \\vec{u}\\cdot\\nabla f=k\\nabla^2f+\\frac{s}{\\rho c_p}$$\n",
      "\n",
      "Donde $\\frac{\\partial f}{\\partial t}=0$, $k = \\frac{\\mu}{\\rho}=\\nu$, y $\\frac{s}{c_p}=-\\frac{\\partial p}{\\partial *}$ para $f=u, *=x$ y $f=v, *=y$, y las condiciones de frontera corresponden a valores conocidos (tipo Dirichlet)."
     ]
    },
    {
     "cell_type": "markdown",
     "metadata": {},
     "source": [
      "Ahora, para aplicar el m\u00e9todo de elementos espectrales, es necesario realizar los siguientes pasos:\n",
      "\n",
      "- Introducci\u00f3n de la informaci\u00f3n del problema\n",
      "- Definici\u00f3n de los elementos a usar (cantidad $N_E$ y distribuci\u00f3n, as\u00ed como sus \u00f3rdenes $N_P(i)$)\n",
      "    - Selecci\u00f3n de los nodos de interpolaci\u00f3n a usar\n",
      "    - Generaci\u00f3n de la matriz de conectividad\n",
      "- Generaci\u00f3n de la matriz del problema\n",
      "    - Generaci\u00f3n de la matriz de difusi\u00f3n\n",
      "        - Calculo de las funciones de interpolaci\u00f3n\n",
      "        - Calculo de las derivadas de las funciones de interpolaci\u00f3n\n",
      "        - Calculo de las derivadas de las funciones de transformaci\u00f3n\n",
      "        - Calculo de los gradientes de las funciones de interpolaci\u00f3n\n",
      "        - Calculo del factor de correcci\u00f3n (cambio de base) $h_s$\n",
      "    - Generaci\u00f3n del vector b\n",
      "- Soluci\u00f3n del sistema resultante\n",
      "- Gr\u00e1fica de la soluci\u00f3n obtenida\n",
      "\n",
      "Cada uno de los pasos se tratar\u00e1 en detalle a continuaci\u00f3n"
     ]
    },
    {
     "cell_type": "code",
     "collapsed": false,
     "input": [
      "# Prepara el ambiente de trabajo con las librer\u00edas a utilizar\n",
      "\n",
      "import numpy as np               # Ofrece funciones para operaciones b\u00e1sicas con arreglos\n",
      "import scipy.linalg as lin       # Ofrece funciones para operaciones de \u00e1lgebra lineal\n",
      "import matplotlib.pyplot as plt  # Permite incluir un ambiente de visualizaci\u00f3n\n",
      "from mpl_toolkits.mplot3d.axes3d import Axes3D\n",
      "import timeit                    # Permite la medici\u00f3n de tiempos para los distintos algoritmos\n",
      "from sem2D import *               # Agrupa las funciones externas en un archivo\n",
      "# from __future__ import division  # Corrige posibles problemas que surgen a la hora de dividir enteros\n",
      "#%pylab inline"
     ],
     "language": "python",
     "metadata": {},
     "outputs": [],
     "prompt_number": 1
    },
    {
     "cell_type": "markdown",
     "metadata": {},
     "source": [
      "## Diferencia con respecto a la numeraci\u00f3n XY\n",
      "\n",
      "En este caso el procedimiento es el mismo que aantes. Sin embargo, difiere el orden de numeraci\u00f3n de los nodos internamente."
     ]
    },
    {
     "cell_type": "code",
     "collapsed": false,
     "input": [
      "L = 2.4\n",
      "W = 1.6\n",
      "mu = 1.\n",
      "U0 = 1.\n",
      "\n",
      "Ne = np.array([8,8])   # Indica la cantidad de elementos a lo largo de los ejes x y y\n",
      "Np = np.array([2,2])   # Indica la cantidad de divisiones sobre cada elemento en xi y en eta\n",
      "\n",
      "# Genera los puntos correspondientes a los vertices de cada elemento\n",
      "(px, hx) = np.linspace(-L/2,L/2,Ne[0]+1,retstep=True)\n",
      "(py, hy) = np.linspace(-W/2,W/2,Ne[1]+1,retstep=True)"
     ],
     "language": "python",
     "metadata": {},
     "outputs": [],
     "prompt_number": 2
    },
    {
     "cell_type": "code",
     "collapsed": false,
     "input": [
      "(x, y, ne, npe) = genNodes(Ne,Np,px,py,ordn='ij') # Notese que el ordenamiento es ij\n",
      "\n",
      "# Grafica la malla de puntos\n",
      "for l in range(ne):\n",
      "    plt.plot([x[l,0],x[l,Np[1]],x[l,-1],x[l,-Np[1]-1],x[l,0]],\n",
      "             [y[l,0],y[l,Np[1]],y[l,-1],y[l,-Np[1]-1],y[l,0]],\n",
      "             'r--')\n",
      "    plt.hold(True)\n",
      "plt.plot(x,y,'bo',ms=4)\n",
      "plt.xlabel('coordenada x')\n",
      "plt.ylabel('coordenada y')\n",
      "plt.show()"
     ],
     "language": "python",
     "metadata": {},
     "outputs": [],
     "prompt_number": 3
    },
    {
     "cell_type": "code",
     "collapsed": false,
     "input": [
      "h = min(hx,hy)\n",
      "(coords, C, gfl, ng) = genConn(Ne,Np,ne,npe,x,y,L,W,U0,h)"
     ],
     "language": "python",
     "metadata": {},
     "outputs": [],
     "prompt_number": 4
    },
    {
     "cell_type": "code",
     "collapsed": false,
     "input": [
      "(Mat_dif, vec_b) = matDiff(Ne,Np,ne,npe,ng,x,y,C,gfl,mu)\n",
      "\n",
      "plt.spy(Mat_dif)\n",
      "plt.show()"
     ],
     "language": "python",
     "metadata": {},
     "outputs": [],
     "prompt_number": 5
    },
    {
     "cell_type": "markdown",
     "metadata": {},
     "source": [
      "## Soluci\u00f3n del sistema resultante\n",
      "\n",
      "Teniendo ya construidos los componentes del sistema a resolver, basta aplicar un esquema de soluci\u00f3n razonable para el tipo de matriz obtenida. En este caso se utiliza el solucionador por defecto del m\u00f3dulo _linalg_. Dado que los valores para el primer y \u00faltimo nodo son conocidos, se omiten los valores correspondientes."
     ]
    },
    {
     "cell_type": "code",
     "collapsed": false,
     "input": [
      "start = timeit.default_timer()\n",
      "sols = lin.solve(Mat_dif[1:,1:],vec_b[1:])\n",
      "print timeit.default_timer()-start\n",
      "\n",
      "# Recupera las velocidades\n",
      "solx = np.concatenate([[gfl[0,1]], sols[0:ng-1]])\n",
      "soly = sols[ng-1:2*ng-1]\n",
      "\n",
      "# Calcula la magnitud de la velocidad en cada nodo\n",
      "solm = np.abs(solx**2+soly**2)\n",
      "\n",
      "# Recupera las presiones\n",
      "solp = sols[2*ng-1:]"
     ],
     "language": "python",
     "metadata": {},
     "outputs": [
      {
       "output_type": "stream",
       "stream": "stdout",
       "text": [
        "5.34624933736\n",
        "5.74302914177"
       ]
      },
      {
       "output_type": "stream",
       "stream": "stdout",
       "text": [
        "\n",
        "5.62110650215"
       ]
      },
      {
       "output_type": "stream",
       "stream": "stdout",
       "text": [
        "\n",
        "5.74491085405"
       ]
      },
      {
       "output_type": "stream",
       "stream": "stdout",
       "text": [
        "\n",
        "5.91244527104"
       ]
      },
      {
       "output_type": "stream",
       "stream": "stdout",
       "text": [
        "\n"
       ]
      }
     ],
     "prompt_number": 7
    },
    {
     "cell_type": "markdown",
     "metadata": {},
     "source": [
      "## Gr\u00e1fica de la soluci\u00f3n obtenida\n",
      "\n",
      "Una vez resuelto el sistema, es posible visualizar el resultado obtenido por medio de una gr\u00e1fica. En este caso se conoce que la soluci\u00f3n anal\u00edtica corresponde a la linea recta entre las dos condiciones extremas, y se incluye tambi\u00e9n su gr\u00e1fica."
     ]
    },
    {
     "cell_type": "code",
     "collapsed": false,
     "input": [
      "# Grafica las fronteras de los elementos\n",
      "for l in range(ne):\n",
      "    plt.plot([x[l,0],x[l,Np[0]],x[l,-1],x[l,-Np[0]-1],x[l,0]],\n",
      "             [y[l,0],y[l,Np[0]],y[l,-1],y[l,-Np[0]-1],y[l,0]],\n",
      "             'r--')\n",
      "    plt.hold(True)\n",
      "    \n",
      "# Grafica la magnitud del campo de velocidades\n",
      "for l in range(ne):\n",
      "    Px = (coords[C[l,:],0]).reshape(Np[0]+1,npe/(Np[0]+1))\n",
      "    Py = (coords[C[l,:],1]).reshape(Np[0]+1,npe/(Np[0]+1))\n",
      "    SM = (solm[C[l,:]]).reshape(Np[0]+1,npe/(Np[0]+1))\n",
      "    plt.pcolor(Px,Py,SM,vmin=min(solm), vmax=max(solm))\n",
      "    \n",
      "# Grafica el campo de velocidades\n",
      "plt.quiver(coords[:,0],coords[:,1],solx,soly,color='w')\n",
      "plt.title('Campo de Velocidades para el Flujo en la Cavidad')\n",
      "plt.xlabel('Posicion (coord x)')\n",
      "plt.ylabel('Posicion (coord y)')\n",
      "plt.xlim([-1.2, 1.2])\n",
      "plt.ylim([-1.2, 1.2])\n",
      "plt.show()"
     ],
     "language": "python",
     "metadata": {},
     "outputs": []
    },
    {
     "cell_type": "code",
     "collapsed": false,
     "input": [
      "# Grafica el campo de presiones\n",
      "xpres = np.zeros(ne)\n",
      "ypres = np.zeros(ne)\n",
      "for l in range(ne):\n",
      "    xpres[l] = (x[l,0]+x[l,Np[0]]+x[l,-1]+x[l,-Np[0]-1])/4\n",
      "    ypres[l] = (y[l,0]+y[l,Np[0]]+y[l,-1]+y[l,-Np[0]-1])/4\n",
      "    \n",
      "xpres = xpres.reshape(Ne[0],Ne[1])\n",
      "ypres = ypres.reshape(Ne[0],Ne[1])\n",
      "zpres = solp.reshape(Ne[0],Ne[1])\n",
      "\n",
      "fig = plt.figure()\n",
      "ax = fig.add_subplot(111, projection='3d')\n",
      "ax.plot_wireframe(xpres,ypres,zpres)\n",
      "ax.set_xlabel('x')\n",
      "ax.set_ylabel('y')\n",
      "ax.set_zlabel('Presion')\n",
      "#plt.pcolor(xpres,ypres,zpres)\n",
      "plt.show()"
     ],
     "language": "python",
     "metadata": {},
     "outputs": []
    },
    {
     "cell_type": "code",
     "collapsed": false,
     "input": [],
     "language": "python",
     "metadata": {},
     "outputs": []
    }
   ],
   "metadata": {}
  }
 ]
}
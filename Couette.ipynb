{
 "metadata": {
  "name": "",
  "signature": "sha256:3d6fac428d78b0bd2727a34ad44597255014e621365d10880df6a8bb976fc408"
 },
 "nbformat": 3,
 "nbformat_minor": 0,
 "worksheets": [
  {
   "cells": [
    {
     "cell_type": "markdown",
     "metadata": {},
     "source": [
      "#Test 1: Caso 1D - Couette"
     ]
    },
    {
     "cell_type": "markdown",
     "metadata": {},
     "source": [
      "En el flujo de Couette, el fluido se encuentra confinado entre placas planas paralelas infinitas separadas por una distancia constante $L$. Adicionalmente, la velocidad de las placas es de $U_0$ y $U_1$ (en direcci\u00f3n x) respectivamente. De acuerdo con esto, se tienen las siguientes consideraciones:\n",
      "\n",
      "- El flujo se presenta \u00fanicamente en la direcci\u00f3n $x$ ($v=w=0$).\n",
      "- El flujo no depende de la coordenada $z$ ($\\frac{\\partial}{\\partial z}=0$).\n",
      "- El fluido se encuentra en estado estacionario ($\\frac{\\partial}{\\partial t}=0$).\n",
      "- La presi\u00f3n a la que est\u00e1 sometido el fluido es constante ($\\nabla p = 0$).\n",
      "- No hay fuerzas externas afectando el flujo ($f_x=f_y=f_z=0$).\n",
      "\n",
      "De aqu\u00ed, las ecuaciones de continuidad y de Navier-Stokes se reducen a:\n",
      "\n",
      "\\begin{align}\n",
      "\\frac{\\partial \\rho}{\\partial t} + \\nabla\\cdot(\\rho \\vec{u})=0 \\quad &\\to\\quad \\frac{\\partial u}{\\partial x}=0 \\\\\n",
      "\\rho\\left(\\frac{\\partial \\vec{u}}{\\partial t}+\\vec{u}\\cdot\\nabla\\vec{u}\\right)=\\rho\\vec{f}-\\nabla p+\\mu\\nabla^2\\vec{u}\\quad &\\to\\quad 0=\\frac{\\partial^2u}{\\partial y^2}\n",
      "\\end{align}\n",
      "\n",
      "Se puede ver entonces que la ecuaci\u00f3n resultante es un caso particular del problema de difusi\u00f3n estable:\n",
      "\n",
      "$$k\\frac{d^2 f}{d x^2}+s(x)=0$$\n",
      "\n",
      "Donde $k = 1$, y $s(x)=0$, y las condiciones de frontera corresponden a valores conocidos (tipo Dirichlet):\n",
      "\n",
      "$$u(0)=U_0\\quad u(L)=U_1$$"
     ]
    },
    {
     "cell_type": "markdown",
     "metadata": {},
     "source": [
      "Ahora, para aplicar el m\u00e9todo de elementos espectrales, es necesario realizar los siguientes pasos:\n",
      "\n",
      "- Introducci\u00f3n de la informaci\u00f3n del problema\n",
      "- Definici\u00f3n de los elementos a usar (cantidad $N_E$ y distribuci\u00f3n, as\u00ed como sus \u00f3rdenes $N_P(i)$)\n",
      "    - Selecci\u00f3n de los nodos de interpolaci\u00f3n a usar\n",
      "    - Generaci\u00f3n de la matriz de conectividad\n",
      "- Generaci\u00f3n de la matriz del problema\n",
      "    - Generaci\u00f3n de la matriz de difusi\u00f3n y el vector b\n",
      "- Soluci\u00f3n del sistema resultante\n",
      "- Gr\u00e1fica de la soluci\u00f3n obtenida\n",
      "\n",
      "Cada uno de los pasos se tratar\u00e1 en detalle a continuaci\u00f3n"
     ]
    },
    {
     "cell_type": "code",
     "collapsed": false,
     "input": [
      "# Prepara el ambiente de trabajo con las librer\u00edas a utilizar\n",
      "\n",
      "import numpy as np               # Ofrece funciones para operaciones b\u00e1sicas con arreglos\n",
      "import scipy.linalg as lin       # Ofrece funciones para operaciones de \u00e1lgebra lineal\n",
      "import matplotlib.pyplot as plt  # Permite incluir un ambiente de visualizaci\u00f3n\n",
      "import timeit                    # Permite la medici\u00f3n de tiempos para los distintos algoritmos\n",
      "from sem1D import *               # Agrupa las funciones externas en un archivo"
     ],
     "language": "python",
     "metadata": {},
     "outputs": [],
     "prompt_number": 1
    },
    {
     "cell_type": "markdown",
     "metadata": {},
     "source": [
      "## Introducci\u00f3n de la informaci\u00f3n del problema\n",
      "Se introducen los par\u00e1metros del problema. En este caso se tienen \u00fanicamente los par\u00e1metros $L$ y $U_0$."
     ]
    },
    {
     "cell_type": "code",
     "collapsed": false,
     "input": [
      "L = 2.0\n",
      "U0 = 15.0\n",
      "U1 = 25.0"
     ],
     "language": "python",
     "metadata": {},
     "outputs": [],
     "prompt_number": 2
    },
    {
     "cell_type": "markdown",
     "metadata": {},
     "source": [
      "## Definici\u00f3n de los elementos a usar\n",
      "\n",
      "Se define primero el n\u00famero de elementos y su distribuci\u00f3n, as\u00ed como los \u00f3rdenes de cada uno de los mismos. Por simplicidad, inicialmente se toman elementos uniformemente espaciados."
     ]
    },
    {
     "cell_type": "code",
     "collapsed": false,
     "input": [
      "Ne = 5\n",
      "Np = np.array((6,4,5,3,6))\n",
      "\n",
      "# Genera los puntos correspondientes a los nodos extremos de cada elemento\n",
      "xe = np.linspace(0,L,Ne+1)"
     ],
     "language": "python",
     "metadata": {},
     "outputs": [],
     "prompt_number": 3
    },
    {
     "cell_type": "markdown",
     "metadata": {},
     "source": [
      "### Selecci\u00f3n de los nodos de interpolaci\u00f3n a usar\n",
      "\n",
      "Conociendo el n\u00famero de elementos y su distribuci\u00f3n, es posible generar los nodos correspondientes a los extremos de cada elemento. Sin embargo, como no se trabaja con elementos lineales (cada elemento tiene un orden), es necesario generar los nodos intermedios para cada elemento. Para ello, es necesario definir la familia de polinomios sobre la cual van a estar basados estos nodos. En este caso se utilizan los nodos de interpolaci\u00f3n de Lobatto."
     ]
    },
    {
     "cell_type": "raw",
     "metadata": {},
     "source": [
      "def genNodes(Ne,Np,xe):\n",
      "\n",
      "#=================================================\n",
      "# Genera los nodos de interpolacion segun el\n",
      "# numero de elementos y sus ordenes. Esta es la\n",
      "# numeracion local de los nodos: (l,i)\n",
      "# \n",
      "# Ne = Np.size\n",
      "# max(Np) < 6\n",
      "#=================================================\n",
      "\n",
      "    if(Ne != Np.size):\n",
      "        raise NameError('La cantidad de elementos no coincide con el orden')\n",
      "\n",
      "    xint = np.zeros((Ne,max(Np)+1))\n",
      "    for l in range(Ne):\n",
      "        mid = 0.5 * (xe[l+1]+xe[l])\n",
      "        dis = 0.5 * (xe[l+1]-xe[l])\n",
      "        xint[l,0] = xe[l]\n",
      "        vals = lobatto(Np[l]-1)\n",
      "        xint[l,1:Np[l]] = mid + vals*dis\n",
      "        xint[l,Np[l]] = xe[l+1]\n",
      "    return xint"
     ]
    },
    {
     "cell_type": "code",
     "collapsed": false,
     "input": [
      "xint = genNodes(Ne,Np,xe)"
     ],
     "language": "python",
     "metadata": {},
     "outputs": [],
     "prompt_number": 4
    },
    {
     "cell_type": "markdown",
     "metadata": {},
     "source": [
      "### Generaci\u00f3n de la matriz de conectividad\n",
      "\n",
      "Una vez se definen los nodos, se utiliza la matriz de conectividad para almacenar de manera ordenada la numeraci\u00f3n local y global de los mismos"
     ]
    },
    {
     "cell_type": "raw",
     "metadata": {},
     "source": [
      "def genConn(Ne,Np,xint):\n",
      "\n",
      "#=================================================\n",
      "# Genera los vectores de numeracion global y la\n",
      "# matriz de conectividad\n",
      "#\n",
      "# max(Np) < 6\n",
      "#=================================================\n",
      "\n",
      "    xglob = np.zeros(np.sum(Np)+1)\n",
      "    C = np.zeros((Ne,max(Np)+1),int)\n",
      "\n",
      "    # Contador Global\n",
      "    cont = 0\n",
      "    for l in range(Ne):\n",
      "        C[l,0:Np[l]+1] = np.arange(cont,cont+Np[l]+1)\n",
      "        xglob[cont:cont+Np[l]+1] = xint[l,0:Np[l]+1]\n",
      "        cont+=Np[l]\n",
      "    return xglob, C"
     ]
    },
    {
     "cell_type": "code",
     "collapsed": false,
     "input": [
      "(xglob, C) = genConn(Ne,Np,xint)"
     ],
     "language": "python",
     "metadata": {},
     "outputs": [],
     "prompt_number": 5
    },
    {
     "cell_type": "code",
     "collapsed": false,
     "input": [
      "# Permite visualizar todos los nodos a utilizar\n",
      "\n",
      "plt.plot(xe,np.zeros(xe.shape),'bo',xglob,np.zeros(xglob.shape),'r.')\n",
      "plt.xlabel('Posicion (coord y)')\n",
      "plt.show()"
     ],
     "language": "python",
     "metadata": {},
     "outputs": [],
     "prompt_number": 6
    },
    {
     "cell_type": "markdown",
     "metadata": {},
     "source": [
      "## Generaci\u00f3n de la matriz del problema\n",
      "\n",
      "Para la generaci\u00f3n de la matriz del problema es necesario definir cada una de las matrices de difusi\u00f3n y de masa por cada elemento:\n",
      "\n",
      "$$\\Theta_{ij}=\\int_{-1}^1 \\psi_i(\\xi)\\psi_j(\\xi)d\\xi \\quad \\Psi_{ij}=\\int_{-1}^1 \\frac{d\\psi_i}{d\\xi}\\frac{d\\psi_j}{d\\xi}d\\xi$$\n",
      "\n",
      "En este caso se aplica la cuadratura de Lobatto para la construcci\u00f3n de dichas matrices, con lo que se obtienen los siguientes resultados:\n",
      "\n",
      "$$\\Theta=\\sum_{p=1}^{N_p+1} m_{ip}m_{jp}w_p \\quad \\Psi_{ij}=\\sum_{p=1}^{N_p+1} d_{ip}d_{jp}w_p$$"
     ]
    },
    {
     "cell_type": "markdown",
     "metadata": {},
     "source": [
      "### Generaci\u00f3n de la matriz de difusi\u00f3n y el vector b\n",
      "\n",
      "Se recorre sobre los elementos para acoplar las matrices de cada elemento en un sistema global, aprovechando la matriz de conectividad"
     ]
    },
    {
     "cell_type": "raw",
     "metadata": {},
     "source": [
      "def matDiff(Ne,Np,xe,xglob,C,U0,U1,mu=1,s=lambda x: 0):\n",
      "\n",
      "#=================================================\n",
      "# Genera la matriz de difusion/rigidez y el vector\n",
      "# del lado derecho del sistema sujeto a condicio-\n",
      "# nes de Dirichlet en ambos extremos\n",
      "#\n",
      "# max(Np) < 6\n",
      "#=================================================\n",
      "\n",
      "    Ng = xglob.size\n",
      "    Mat_dif = np.zeros((Ng,Ng))\n",
      "    vec_b = np.zeros(Ng)\n",
      "    s = np.vectorize(s)\n",
      "\n",
      "    for l in range(Ne):\n",
      "        N = Np[l]\n",
      "        h = xe[l+1]-xe[l]\n",
      "        elm_mm = 0.5*h*emm(N)\n",
      "        elm_dm = 2.0*edm(N)/h\n",
      "\n",
      "        Mat_dif[C[l,0]:C[l,N]+1,C[l,0]:C[l,N]+1] += elm_dm\n",
      "        vec_b[C[l,0:N+1]] += np.dot(elm_mm,s(xglob[C[l,0:N+1]]))/mu\n",
      "\n",
      "    # Implementa las condiciones de frontera de Dirichlet\n",
      "\n",
      "    # Extremo derecho\n",
      "    # los valores de N, h y elm_dm ya corresponden a los del ultimo nodo\n",
      "    vec_b[C[Ne-1,0:N+1]] -= elm_dm[0:N+1,N]*U1\n",
      "\n",
      "    # Extremo izquierdo\n",
      "    N = Np[0]\n",
      "    h = xe[1]-xe[0]\n",
      "    elm_dm = 2.0*edm(Np[0])/h\n",
      "    vec_b[C[0,0:N+1]] -= elm_dm[0:N+1,0]*U0\n",
      "    \n",
      "    return Mat_dif, vec_b"
     ]
    },
    {
     "cell_type": "code",
     "collapsed": false,
     "input": [
      "# Permite visualizar la manera en que se acoplan los bloques\n",
      "\n",
      "(Mat_dif, vec_b) = matDiff(Ne,Np,xe,xglob,C,U0,U1)\n",
      "\n",
      "plt.spy(Mat_dif)\n",
      "plt.show()"
     ],
     "language": "python",
     "metadata": {},
     "outputs": [],
     "prompt_number": 7
    },
    {
     "cell_type": "markdown",
     "metadata": {},
     "source": [
      "## Soluci\u00f3n del sistema resultante\n",
      "\n",
      "Teniendo ya construidos los componentes del sistema a resolver, basta aplicar un esquema de soluci\u00f3n razonable para el tipo de matriz obtenida. En este caso se utiliza el solucionador por defecto del m\u00f3dulo _linalg_. Dado que los valores para el primer y \u00faltimo nodo son conocidos, se omiten los valores correspondientes."
     ]
    },
    {
     "cell_type": "code",
     "collapsed": false,
     "input": [
      "sol = np.zeros(xglob.size-2)\n",
      "A = Mat_dif[1:-1,1:-1]\n",
      "sol = lin.solve(A,vec_b[1:-1])\n",
      "solU = np.concatenate([[U0],sol,[U1]])"
     ],
     "language": "python",
     "metadata": {},
     "outputs": [],
     "prompt_number": 8
    },
    {
     "cell_type": "markdown",
     "metadata": {},
     "source": [
      "## Gr\u00e1fica de la soluci\u00f3n obtenida\n",
      "\n",
      "Una vez resuelto el sistema, es posible visualizar el resultado obtenido por medio de una gr\u00e1fica. En este caso se conoce que la soluci\u00f3n anal\u00edtica corresponde a la linea recta entre las dos condiciones extremas, y se incluye tambi\u00e9n su gr\u00e1fica."
     ]
    },
    {
     "cell_type": "code",
     "collapsed": false,
     "input": [
      "plt.plot(xe,np.linspace(U0,U1,Ne+1),'-.or',ms=8)\n",
      "plt.hold(True)\n",
      "plt.plot(xglob,solU,':*b')\n",
      "plt.xlabel('Posicion (coord y)')\n",
      "plt.ylabel('Velocidad (U)')\n",
      "plt.show()"
     ],
     "language": "python",
     "metadata": {},
     "outputs": [],
     "prompt_number": 9
    },
    {
     "cell_type": "code",
     "collapsed": false,
     "input": [],
     "language": "python",
     "metadata": {},
     "outputs": []
    }
   ],
   "metadata": {}
  }
 ]
}
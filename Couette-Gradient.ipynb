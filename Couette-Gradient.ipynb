{
 "metadata": {
  "name": "",
  "signature": "sha256:a9f3b1f357b07a3a0046283de9251e3b06ba82eaae3f3a21dad36a7127022b73"
 },
 "nbformat": 3,
 "nbformat_minor": 0,
 "worksheets": [
  {
   "cells": [
    {
     "cell_type": "markdown",
     "metadata": {},
     "source": [
      "#Test 2: Caso 1D - Couette Generalizado"
     ]
    },
    {
     "cell_type": "markdown",
     "metadata": {},
     "source": [
      "En el flujo de Couette generalizado, el fluido se encuentra confinado entre placas planas paralelas infinitas separadas por una distancia constante $L$ y se encuentra sometido a un gradiente de presi\u00f3n en direcci\u00f3n paralela a las placas. Adicionalmente, las velocidades de las placas son de $U_0$ y $U_1$ (en direcci\u00f3n x) respectivamente. De acuerdo con esto, se tienen las siguientes consideraciones:\n",
      "\n",
      "- El flujo se presenta \u00fanicamente en la direcci\u00f3n $x$ ($v=w=0$).\n",
      "- El gradiente de presi\u00f3n al que est\u00e1 sometido el fluido es constante ($\\frac{\\partial p}{\\partial x} = \\frac{\\Delta p}{\\ell}$).\n",
      "- El flujo no depende de la coordenada $z$ ($\\frac{\\partial}{\\partial z}=0$).\n",
      "- El fluido se encuentra en estado estacionario ($\\frac{\\partial}{\\partial t}=0$).\n",
      "- No hay fuerzas externas afectando el flujo ($f_x=f_y=f_z=0$).\n",
      "\n",
      "De aqu\u00ed, las ecuaciones de continuidad y de Navier-Stokes se reducen a:\n",
      "\n",
      "\\begin{align}\n",
      "\\frac{\\partial \\rho}{\\partial t} + \\nabla\\cdot(\\rho \\vec{u})=0 \\quad &\\to\\quad \\frac{\\partial u}{\\partial x}=0 \\\\\n",
      "\\rho\\left(\\frac{\\partial \\vec{u}}{\\partial t}+\\vec{u}\\cdot\\nabla\\vec{u}\\right)=\\rho\\vec{f}-\\nabla p+\\mu\\nabla^2\\vec{u}\\quad &\\to\\quad 0=-\\frac{\\Delta p}{\\ell}+\\mu\\frac{\\partial^2u}{\\partial y^2}\n",
      "\\end{align}\n",
      "\n",
      "Se puede ver entonces que la ecuaci\u00f3n resultante es un caso particular del problema de difusi\u00f3n estable:\n",
      "\n",
      "$$k\\frac{d^2 f}{d x^2}+s(x)=0$$\n",
      "\n",
      "Donde $k = \\mu$, y $s(x)=-\\frac{\\Delta p}{\\ell}$, y las condiciones de frontera corresponden a valores conocidos (tipo Dirichlet):\n",
      "\n",
      "$$u(0)=U_0\\quad u(L)=U_1$$"
     ]
    },
    {
     "cell_type": "markdown",
     "metadata": {},
     "source": [
      "Ahora, para aplicar el m\u00e9todo de elementos espectrales, es necesario realizar los siguientes pasos:\n",
      "\n",
      "- Introducci\u00f3n de la informaci\u00f3n del problema\n",
      "- Definici\u00f3n de los elementos a usar (cantidad $N_E$ y distribuci\u00f3n, as\u00ed como sus \u00f3rdenes $N_P(i)$)\n",
      "    - Selecci\u00f3n de los nodos de interpolaci\u00f3n a usar\n",
      "    - Generaci\u00f3n de la matriz de conectividad\n",
      "    - Definici\u00f3n de la funci\u00f3n de entrada\n",
      "- Generaci\u00f3n de la matriz del problema\n",
      "    - Generaci\u00f3n de la matriz de difusi\u00f3n y el vector b\n",
      "- Soluci\u00f3n del sistema resultante\n",
      "- Gr\u00e1fica de la soluci\u00f3n obtenida\n",
      "\n",
      "Cada uno de los pasos se tratar\u00e1 en detalle a continuaci\u00f3n"
     ]
    },
    {
     "cell_type": "code",
     "collapsed": false,
     "input": [
      "# Prepara el ambiente de trabajo con las librer\u00edas a utilizar\n",
      "\n",
      "import numpy as np               # Ofrece funciones para operaciones b\u00e1sicas con arreglos\n",
      "import scipy.linalg as lin       # Ofrece funciones para operaciones de \u00e1lgebra lineal\n",
      "import matplotlib.pyplot as plt  # Permite incluir un ambiente de visualizaci\u00f3n\n",
      "import timeit                    # Permite la medici\u00f3n de tiempos para los distintos algoritmos\n",
      "from sem1D import *               # Agrupa las funciones externas en un archivo\n",
      "#%pylab inline"
     ],
     "language": "python",
     "metadata": {},
     "outputs": [],
     "prompt_number": 1
    },
    {
     "cell_type": "markdown",
     "metadata": {},
     "source": [
      "## Introducci\u00f3n de la informaci\u00f3n del problema\n",
      "Se introducen los par\u00e1metros del problema. En este caso se tienen los par\u00e1metros $\\mu$, $\\nabla p$, $L$ y $U_0$."
     ]
    },
    {
     "cell_type": "code",
     "collapsed": false,
     "input": [
      "## Valores de prueba correspondientes al ejemplo del libro de Pozrikidis\n",
      "# L = 1.\n",
      "# mu = 1.\n",
      "# U0 = 1.9639\n",
      "# U1 = 0.\n",
      "\n",
      "L = 2.\n",
      "mu = 1.\n",
      "U0 = 0.\n",
      "U1 = 50.\n",
      "p = np.array([-40,-20,0,20,40])"
     ],
     "language": "python",
     "metadata": {},
     "outputs": [],
     "prompt_number": 2
    },
    {
     "cell_type": "markdown",
     "metadata": {},
     "source": [
      "## Definici\u00f3n de los elementos a usar\n",
      "\n",
      "Se define primero el n\u00famero de elementos y su distribuci\u00f3n, as\u00ed como los \u00f3rdenes de cada uno de los mismos. Por simplicidad, inicialmente se toman elementos uniformemente espaciados."
     ]
    },
    {
     "cell_type": "code",
     "collapsed": false,
     "input": [
      "Ne = 6\n",
      "Np = np.array((1,3,5,6,4,2))\n",
      "\n",
      "# Genera los puntos correspondientes a los nodos extremos de cada elemento\n",
      "(xe, h) = np.linspace(0,L,Ne+1,retstep=True)"
     ],
     "language": "python",
     "metadata": {},
     "outputs": [],
     "prompt_number": 3
    },
    {
     "cell_type": "markdown",
     "metadata": {},
     "source": [
      "### Selecci\u00f3n de los nodos de interpolaci\u00f3n a usar\n",
      "\n",
      "Conociendo el n\u00famero de elementos y su distribuci\u00f3n, es posible generar los nodos correspondientes a los extremos de cada elemento. Sin embargo, como no se trabaja con elementos lineales (cada elemento tiene un orden), es necesario generar los nodos intermedios para cada elemento. Para ello, es necesario definir la familia de polinomios sobre la cual van a estar basados estos nodos. En este caso se utilizan los nodos de interpolaci\u00f3n de Lobatto."
     ]
    },
    {
     "cell_type": "code",
     "collapsed": false,
     "input": [
      "xint = genNodes(Ne,Np,xe)"
     ],
     "language": "python",
     "metadata": {},
     "outputs": [],
     "prompt_number": 4
    },
    {
     "cell_type": "markdown",
     "metadata": {},
     "source": [
      "### Generaci\u00f3n de la matriz de conectividad\n",
      "\n",
      "Una vez se definen los nodos, se utiliza la matriz de conectividad para almacenar de manera ordenada la numeraci\u00f3n local y global de los mismos"
     ]
    },
    {
     "cell_type": "code",
     "collapsed": false,
     "input": [
      "(xglob, C) = genConn(Ne,Np,xint)"
     ],
     "language": "python",
     "metadata": {},
     "outputs": [],
     "prompt_number": 5
    },
    {
     "cell_type": "code",
     "collapsed": false,
     "input": [
      "# Permite visualizar todos los nodos a utilizar\n",
      "\n",
      "plt.plot(xe,np.zeros(xe.size),'bo',xglob,np.zeros(xglob.size),'r.')\n",
      "plt.xlabel('Posicion (coord y)')\n",
      "plt.show()"
     ],
     "language": "python",
     "metadata": {},
     "outputs": [],
     "prompt_number": 6
    },
    {
     "cell_type": "markdown",
     "metadata": {},
     "source": [
      "### Definici\u00f3n de la funci\u00f3n de entrada\n",
      "\n",
      "Especifica $s(x)$ para cada uno de los nodos"
     ]
    },
    {
     "cell_type": "raw",
     "metadata": {},
     "source": [
      "# Construye la funci\u00f3n de entrada\n",
      "## s = lambda x: 10.*np.exp(-5.*(x**2)/L**2)   # Funci\u00f3n de prueba correspondiente al ejemplo del libro de Pozrikidiz\n",
      "s = lambda x,y: -p[x] # Para x en 0,1,2,3,4"
     ]
    },
    {
     "cell_type": "markdown",
     "metadata": {},
     "source": [
      "## Generaci\u00f3n de la matriz del problema\n",
      "\n",
      "Para la generaci\u00f3n de la matriz del problema es necesario definir cada una de las matrices de difusi\u00f3n y de masa por cada elemento:\n",
      "\n",
      "$$\\Theta_{ij}=\\int_{-1}^1 \\psi_i(\\xi)\\psi_j(\\xi)d\\xi \\quad \\Psi_{ij}=\\int_{-1}^1 \\frac{d\\psi_i}{d\\xi}\\frac{d\\psi_j}{d\\xi}d\\xi$$\n",
      "\n",
      "En este caso se aplica la cuadratura de Lobatto para la construcci\u00f3n de dichas matrices, con lo que se obtienen los siguientes resultados:\n",
      "\n",
      "$$\\Theta=\\sum_{p=1}^{N_p+1} m_{ip}m_{jp}w_p \\quad \\Psi_{ij}=\\sum_{p=1}^{N_p+1} d_{ip}d_{jp}w_p$$"
     ]
    },
    {
     "cell_type": "markdown",
     "metadata": {},
     "source": [
      "### Generaci\u00f3n de la matriz de difusi\u00f3n y el vector b\n",
      "\n",
      "Se recorre sobre los elementos para acoplar las matrices de cada elemento en un sistema global, aprovechando la matriz de conectividad"
     ]
    },
    {
     "cell_type": "markdown",
     "metadata": {},
     "source": [
      "## Soluci\u00f3n del sistema resultante\n",
      "\n",
      "Teniendo ya construidos los componentes del sistema a resolver, basta aplicar un esquema de soluci\u00f3n razonable para el tipo de matriz obtenida. En este caso se utiliza el solucionador por defecto del m\u00f3dulo _linalg_. Dado que los valores para el primer y \u00faltimo nodo son conocidos, se omiten los valores correspondientes."
     ]
    },
    {
     "cell_type": "markdown",
     "metadata": {},
     "source": [
      "## Gr\u00e1fica de la soluci\u00f3n obtenida\n",
      "\n",
      "Una vez resuelto el sistema, es posible visualizar el resultado obtenido por medio de una gr\u00e1fica. En este caso se conoce que la soluci\u00f3n anal\u00edtica corresponde a la linea recta entre las dos condiciones extremas, y se incluye tambi\u00e9n su gr\u00e1fica."
     ]
    },
    {
     "cell_type": "code",
     "collapsed": false,
     "input": [
      "plt.plot(np.linspace(U0,U1,Ne+1),xe,'-.or',ms=8)\n",
      "plt.hold(True)\n",
      "\n",
      "for it in range(5):\n",
      "    (Mat_dif, vec_b) = matDiff(Ne,Np,xe,xglob,C,U0,U1,mu,s= lambda x: -p[it])\n",
      "    sol = np.zeros(xglob.size-2)\n",
      "    A = Mat_dif[1:-1,1:-1] \n",
      "    sol = lin.solve(A,vec_b[1:-1])\n",
      "    solG = np.concatenate([[U0],sol,[U1]])\n",
      "    \n",
      "    if(it == 0):\n",
      "        plt.plot(solG,xglob,'-ob',label='p = -40')\n",
      "    elif(it == 1):\n",
      "        plt.plot(solG,xglob,'--*g',label='p = -20')\n",
      "    elif(it == 2):\n",
      "        plt.plot(solG,xglob,'-.+c',label='p = 0')\n",
      "    elif(it == 3):\n",
      "        plt.plot(solG,xglob,':xm',label='p = 20')\n",
      "    else:\n",
      "        plt.plot(solG,xglob,'--vk',label='p = 40')\n",
      "\n",
      "valy = np.linspace(0,L,100)\n",
      "for num in range(5):\n",
      "    vec = np.zeros(xglob.size)\n",
      "    vec = p[num]/(2.*mu)*(valy**2-L*valy)+(U1-U0)/L*valy+U0\n",
      "    plt.plot(vec,valy,':r')\n",
      "plt.legend(loc='upper left')\n",
      "plt.title('Velocidades para Distintos Valores del Gradiente')\n",
      "plt.ylabel('Posicion (coord y)')\n",
      "plt.xlabel('Velocidad (U)')\n",
      "plt.show()"
     ],
     "language": "python",
     "metadata": {},
     "outputs": [],
     "prompt_number": 7
    },
    {
     "cell_type": "code",
     "collapsed": false,
     "input": [],
     "language": "python",
     "metadata": {},
     "outputs": []
    }
   ],
   "metadata": {}
  }
 ]
}